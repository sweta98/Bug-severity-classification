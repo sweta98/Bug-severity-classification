{
  "nbformat": 4,
  "nbformat_minor": 0,
  "metadata": {
    "colab": {
      "provenance": [],
      "gpuType": "T4",
      "include_colab_link": true
    },
    "kernelspec": {
      "name": "python3",
      "display_name": "Python 3"
    },
    "language_info": {
      "name": "python"
    },
    "accelerator": "GPU",
    "gpuClass": "standard",
    "widgets": {
      "application/vnd.jupyter.widget-state+json": {
        "bce1fcb2181f4106b11bf430936e6429": {
          "model_module": "@jupyter-widgets/controls",
          "model_name": "HBoxModel",
          "model_module_version": "1.5.0",
          "state": {
            "_dom_classes": [],
            "_model_module": "@jupyter-widgets/controls",
            "_model_module_version": "1.5.0",
            "_model_name": "HBoxModel",
            "_view_count": null,
            "_view_module": "@jupyter-widgets/controls",
            "_view_module_version": "1.5.0",
            "_view_name": "HBoxView",
            "box_style": "",
            "children": [
              "IPY_MODEL_c38d2de8640940abbeca82ab99401aed",
              "IPY_MODEL_84165b281915488abeaf35d909c25343",
              "IPY_MODEL_20890341b3cc4e35b5a87b6857ab70c5"
            ],
            "layout": "IPY_MODEL_c68f9cd19d9a4440a1af2cb415d7165c"
          }
        },
        "c38d2de8640940abbeca82ab99401aed": {
          "model_module": "@jupyter-widgets/controls",
          "model_name": "HTMLModel",
          "model_module_version": "1.5.0",
          "state": {
            "_dom_classes": [],
            "_model_module": "@jupyter-widgets/controls",
            "_model_module_version": "1.5.0",
            "_model_name": "HTMLModel",
            "_view_count": null,
            "_view_module": "@jupyter-widgets/controls",
            "_view_module_version": "1.5.0",
            "_view_name": "HTMLView",
            "description": "",
            "description_tooltip": null,
            "layout": "IPY_MODEL_87afb4213f3140498a1b18d4f748d2f9",
            "placeholder": "​",
            "style": "IPY_MODEL_a785c70902be4355ba932d83994784ca",
            "value": "Map: 100%"
          }
        },
        "84165b281915488abeaf35d909c25343": {
          "model_module": "@jupyter-widgets/controls",
          "model_name": "FloatProgressModel",
          "model_module_version": "1.5.0",
          "state": {
            "_dom_classes": [],
            "_model_module": "@jupyter-widgets/controls",
            "_model_module_version": "1.5.0",
            "_model_name": "FloatProgressModel",
            "_view_count": null,
            "_view_module": "@jupyter-widgets/controls",
            "_view_module_version": "1.5.0",
            "_view_name": "ProgressView",
            "bar_style": "",
            "description": "",
            "description_tooltip": null,
            "layout": "IPY_MODEL_7075f8617cae4d379b661d347f194260",
            "max": 3358,
            "min": 0,
            "orientation": "horizontal",
            "style": "IPY_MODEL_4237f3dd0af54539b5fbe2ea351731d2",
            "value": 3358
          }
        },
        "20890341b3cc4e35b5a87b6857ab70c5": {
          "model_module": "@jupyter-widgets/controls",
          "model_name": "HTMLModel",
          "model_module_version": "1.5.0",
          "state": {
            "_dom_classes": [],
            "_model_module": "@jupyter-widgets/controls",
            "_model_module_version": "1.5.0",
            "_model_name": "HTMLModel",
            "_view_count": null,
            "_view_module": "@jupyter-widgets/controls",
            "_view_module_version": "1.5.0",
            "_view_name": "HTMLView",
            "description": "",
            "description_tooltip": null,
            "layout": "IPY_MODEL_7d09048bf08b4b2f9d4295e673ccd65b",
            "placeholder": "​",
            "style": "IPY_MODEL_7111d38db53248bda0e4f2affc957cbb",
            "value": " 3358/3358 [00:03&lt;00:00, 938.97 examples/s]"
          }
        },
        "c68f9cd19d9a4440a1af2cb415d7165c": {
          "model_module": "@jupyter-widgets/base",
          "model_name": "LayoutModel",
          "model_module_version": "1.2.0",
          "state": {
            "_model_module": "@jupyter-widgets/base",
            "_model_module_version": "1.2.0",
            "_model_name": "LayoutModel",
            "_view_count": null,
            "_view_module": "@jupyter-widgets/base",
            "_view_module_version": "1.2.0",
            "_view_name": "LayoutView",
            "align_content": null,
            "align_items": null,
            "align_self": null,
            "border": null,
            "bottom": null,
            "display": null,
            "flex": null,
            "flex_flow": null,
            "grid_area": null,
            "grid_auto_columns": null,
            "grid_auto_flow": null,
            "grid_auto_rows": null,
            "grid_column": null,
            "grid_gap": null,
            "grid_row": null,
            "grid_template_areas": null,
            "grid_template_columns": null,
            "grid_template_rows": null,
            "height": null,
            "justify_content": null,
            "justify_items": null,
            "left": null,
            "margin": null,
            "max_height": null,
            "max_width": null,
            "min_height": null,
            "min_width": null,
            "object_fit": null,
            "object_position": null,
            "order": null,
            "overflow": null,
            "overflow_x": null,
            "overflow_y": null,
            "padding": null,
            "right": null,
            "top": null,
            "visibility": "hidden",
            "width": null
          }
        },
        "87afb4213f3140498a1b18d4f748d2f9": {
          "model_module": "@jupyter-widgets/base",
          "model_name": "LayoutModel",
          "model_module_version": "1.2.0",
          "state": {
            "_model_module": "@jupyter-widgets/base",
            "_model_module_version": "1.2.0",
            "_model_name": "LayoutModel",
            "_view_count": null,
            "_view_module": "@jupyter-widgets/base",
            "_view_module_version": "1.2.0",
            "_view_name": "LayoutView",
            "align_content": null,
            "align_items": null,
            "align_self": null,
            "border": null,
            "bottom": null,
            "display": null,
            "flex": null,
            "flex_flow": null,
            "grid_area": null,
            "grid_auto_columns": null,
            "grid_auto_flow": null,
            "grid_auto_rows": null,
            "grid_column": null,
            "grid_gap": null,
            "grid_row": null,
            "grid_template_areas": null,
            "grid_template_columns": null,
            "grid_template_rows": null,
            "height": null,
            "justify_content": null,
            "justify_items": null,
            "left": null,
            "margin": null,
            "max_height": null,
            "max_width": null,
            "min_height": null,
            "min_width": null,
            "object_fit": null,
            "object_position": null,
            "order": null,
            "overflow": null,
            "overflow_x": null,
            "overflow_y": null,
            "padding": null,
            "right": null,
            "top": null,
            "visibility": null,
            "width": null
          }
        },
        "a785c70902be4355ba932d83994784ca": {
          "model_module": "@jupyter-widgets/controls",
          "model_name": "DescriptionStyleModel",
          "model_module_version": "1.5.0",
          "state": {
            "_model_module": "@jupyter-widgets/controls",
            "_model_module_version": "1.5.0",
            "_model_name": "DescriptionStyleModel",
            "_view_count": null,
            "_view_module": "@jupyter-widgets/base",
            "_view_module_version": "1.2.0",
            "_view_name": "StyleView",
            "description_width": ""
          }
        },
        "7075f8617cae4d379b661d347f194260": {
          "model_module": "@jupyter-widgets/base",
          "model_name": "LayoutModel",
          "model_module_version": "1.2.0",
          "state": {
            "_model_module": "@jupyter-widgets/base",
            "_model_module_version": "1.2.0",
            "_model_name": "LayoutModel",
            "_view_count": null,
            "_view_module": "@jupyter-widgets/base",
            "_view_module_version": "1.2.0",
            "_view_name": "LayoutView",
            "align_content": null,
            "align_items": null,
            "align_self": null,
            "border": null,
            "bottom": null,
            "display": null,
            "flex": null,
            "flex_flow": null,
            "grid_area": null,
            "grid_auto_columns": null,
            "grid_auto_flow": null,
            "grid_auto_rows": null,
            "grid_column": null,
            "grid_gap": null,
            "grid_row": null,
            "grid_template_areas": null,
            "grid_template_columns": null,
            "grid_template_rows": null,
            "height": null,
            "justify_content": null,
            "justify_items": null,
            "left": null,
            "margin": null,
            "max_height": null,
            "max_width": null,
            "min_height": null,
            "min_width": null,
            "object_fit": null,
            "object_position": null,
            "order": null,
            "overflow": null,
            "overflow_x": null,
            "overflow_y": null,
            "padding": null,
            "right": null,
            "top": null,
            "visibility": null,
            "width": null
          }
        },
        "4237f3dd0af54539b5fbe2ea351731d2": {
          "model_module": "@jupyter-widgets/controls",
          "model_name": "ProgressStyleModel",
          "model_module_version": "1.5.0",
          "state": {
            "_model_module": "@jupyter-widgets/controls",
            "_model_module_version": "1.5.0",
            "_model_name": "ProgressStyleModel",
            "_view_count": null,
            "_view_module": "@jupyter-widgets/base",
            "_view_module_version": "1.2.0",
            "_view_name": "StyleView",
            "bar_color": null,
            "description_width": ""
          }
        },
        "7d09048bf08b4b2f9d4295e673ccd65b": {
          "model_module": "@jupyter-widgets/base",
          "model_name": "LayoutModel",
          "model_module_version": "1.2.0",
          "state": {
            "_model_module": "@jupyter-widgets/base",
            "_model_module_version": "1.2.0",
            "_model_name": "LayoutModel",
            "_view_count": null,
            "_view_module": "@jupyter-widgets/base",
            "_view_module_version": "1.2.0",
            "_view_name": "LayoutView",
            "align_content": null,
            "align_items": null,
            "align_self": null,
            "border": null,
            "bottom": null,
            "display": null,
            "flex": null,
            "flex_flow": null,
            "grid_area": null,
            "grid_auto_columns": null,
            "grid_auto_flow": null,
            "grid_auto_rows": null,
            "grid_column": null,
            "grid_gap": null,
            "grid_row": null,
            "grid_template_areas": null,
            "grid_template_columns": null,
            "grid_template_rows": null,
            "height": null,
            "justify_content": null,
            "justify_items": null,
            "left": null,
            "margin": null,
            "max_height": null,
            "max_width": null,
            "min_height": null,
            "min_width": null,
            "object_fit": null,
            "object_position": null,
            "order": null,
            "overflow": null,
            "overflow_x": null,
            "overflow_y": null,
            "padding": null,
            "right": null,
            "top": null,
            "visibility": null,
            "width": null
          }
        },
        "7111d38db53248bda0e4f2affc957cbb": {
          "model_module": "@jupyter-widgets/controls",
          "model_name": "DescriptionStyleModel",
          "model_module_version": "1.5.0",
          "state": {
            "_model_module": "@jupyter-widgets/controls",
            "_model_module_version": "1.5.0",
            "_model_name": "DescriptionStyleModel",
            "_view_count": null,
            "_view_module": "@jupyter-widgets/base",
            "_view_module_version": "1.2.0",
            "_view_name": "StyleView",
            "description_width": ""
          }
        }
      }
    }
  },
  "cells": [
    {
      "cell_type": "markdown",
      "metadata": {
        "id": "view-in-github",
        "colab_type": "text"
      },
      "source": [
        "<a href=\"https://colab.research.google.com/github/sweta98/Bug-severity-classification/blob/main/DS_Bug_Severity_Classifier_Unsplit_Data.ipynb\" target=\"_parent\"><img src=\"https://colab.research.google.com/assets/colab-badge.svg\" alt=\"Open In Colab\"/></a>"
      ]
    },
    {
      "cell_type": "markdown",
      "source": [
        "# ATTENTION: First manually upload the data file in the root directory of the session storage"
      ],
      "metadata": {
        "id": "k3SGeMhIhHOr"
      }
    },
    {
      "cell_type": "code",
      "source": [
        "!nvidia-smi"
      ],
      "metadata": {
        "colab": {
          "base_uri": "https://localhost:8080/"
        },
        "id": "i6utmrdG7unM",
        "outputId": "bef30521-2c21-42ef-e409-44993799d664"
      },
      "execution_count": null,
      "outputs": [
        {
          "output_type": "stream",
          "name": "stdout",
          "text": [
            "Sun Apr 30 21:10:23 2023       \n",
            "+-----------------------------------------------------------------------------+\n",
            "| NVIDIA-SMI 525.85.12    Driver Version: 525.85.12    CUDA Version: 12.0     |\n",
            "|-------------------------------+----------------------+----------------------+\n",
            "| GPU  Name        Persistence-M| Bus-Id        Disp.A | Volatile Uncorr. ECC |\n",
            "| Fan  Temp  Perf  Pwr:Usage/Cap|         Memory-Usage | GPU-Util  Compute M. |\n",
            "|                               |                      |               MIG M. |\n",
            "|===============================+======================+======================|\n",
            "|   0  Tesla T4            Off  | 00000000:00:04.0 Off |                    0 |\n",
            "| N/A   53C    P0    27W /  70W |    747MiB / 15360MiB |      0%      Default |\n",
            "|                               |                      |                  N/A |\n",
            "+-------------------------------+----------------------+----------------------+\n",
            "                                                                               \n",
            "+-----------------------------------------------------------------------------+\n",
            "| Processes:                                                                  |\n",
            "|  GPU   GI   CI        PID   Type   Process name                  GPU Memory |\n",
            "|        ID   ID                                                   Usage      |\n",
            "|=============================================================================|\n",
            "+-----------------------------------------------------------------------------+\n"
          ]
        }
      ]
    },
    {
      "cell_type": "code",
      "execution_count": null,
      "metadata": {
        "id": "c4nIgSazLs1e"
      },
      "outputs": [],
      "source": [
        "!pip install -q transformers datasets"
      ]
    },
    {
      "cell_type": "markdown",
      "source": [
        "# Load data\n",
        "\n"
      ],
      "metadata": {
        "id": "0pupnqPlhho7"
      }
    },
    {
      "cell_type": "code",
      "source": [
        "\n",
        "# Using one-hot embedding here\n",
        "def category_to_one_hot(category, categories):\n",
        "  \"\"\"\n",
        "  Return one-hot vector of label\n",
        "  \"\"\"\n",
        "  one_hot = np.zeros(len(categories))\n",
        "  index = categories.index(category)\n",
        "  one_hot[index] = 1\n",
        "  return one_hot\n"
      ],
      "metadata": {
        "id": "JgIVgfHOfVIB"
      },
      "execution_count": null,
      "outputs": []
    },
    {
      "cell_type": "code",
      "source": [
        "from datasets import Dataset\n",
        "\n",
        "import csv\n",
        "import numpy as np\n",
        "\n",
        "from tqdm import tqdm\n",
        "\n",
        "f = open(\"merged_methods_buggy.csv\")\n",
        "reader = csv.reader(f)\n",
        "rows = [row for row in reader]\n",
        "fields = rows[0]\n",
        "severity_idx = fields.index('Severity')\n",
        "code_idx = fields.index('SourceCode')\n",
        "\n",
        "\n",
        "labels = ['Critical', 'High', 'Medium', 'Low']\n",
        "\n",
        "dataset_text = [row[code_idx] for row in tqdm(rows[1:])]\n",
        "dataset_label = [category_to_one_hot(row[severity_idx], labels) for row in tqdm(rows[1:])]\n",
        "dataset = Dataset.from_dict({\n",
        "    'text': dataset_text,\n",
        "    'label': dataset_label\n",
        "})"
      ],
      "metadata": {
        "id": "UtU33_VohntD",
        "colab": {
          "base_uri": "https://localhost:8080/"
        },
        "outputId": "dd7dd968-0fdc-43b1-a33a-c123b3eb0ddd"
      },
      "execution_count": null,
      "outputs": [
        {
          "output_type": "stream",
          "name": "stderr",
          "text": [
            "100%|██████████| 3358/3358 [00:00<00:00, 386574.98it/s]\n",
            "100%|██████████| 3358/3358 [00:00<00:00, 150457.46it/s]\n"
          ]
        }
      ]
    },
    {
      "cell_type": "markdown",
      "source": [
        "# Data preprocessing\n",
        "\n",
        "Specify which model below:\n",
        "\n",
        "`'codebert', 'graphcodebert'`"
      ],
      "metadata": {
        "id": "Azcb1mTRFCEa"
      }
    },
    {
      "cell_type": "code",
      "source": [
        "model_name = 'graphcodebert'\n",
        "\n",
        "model_full_name = f\"microsoft/{model_name}-base\""
      ],
      "metadata": {
        "id": "DiCN4xxAZ9HO"
      },
      "execution_count": null,
      "outputs": []
    },
    {
      "cell_type": "code",
      "source": [
        "from transformers import AutoModelForSequenceClassification, AutoModel, AutoTokenizer\n",
        "import torch\n",
        "import torch.nn as nn"
      ],
      "metadata": {
        "id": "ChwpGveoL0ab"
      },
      "execution_count": null,
      "outputs": []
    },
    {
      "cell_type": "code",
      "source": [
        "from datasets import DatasetDict\n",
        "from imblearn.over_sampling import SMOTE\n",
        "import pandas as pd\n",
        "\n",
        "# tokenize\n",
        "tokenizer = AutoTokenizer.from_pretrained(model_full_name)\n",
        "def tokenize(data):\n",
        "    return tokenizer(data['text'], padding='max_length',\n",
        "              truncation=True, max_length=512,\n",
        "              return_tensors=\"pt\"  # return pytorch tensors\n",
        "              )\n",
        "\n",
        "dataset = dataset.map(tokenize, batched=True)\n",
        "\n",
        "seed = 0\n",
        "\n",
        "\n",
        "# split data (paper -> train 70%, valid 15%, test 15%)\n",
        "train_test_valid = dataset.train_test_split(test_size=0.3, seed=seed)\n",
        "test_valid = train_test_valid['test'].train_test_split(test_size=0.5, seed=seed)\n",
        "\n",
        "split_dataset = DatasetDict({\n",
        "    'train': train_test_valid['train'],\n",
        "    'test': test_valid['test'],\n",
        "    'val': test_valid['train']})"
      ],
      "metadata": {
        "colab": {
          "base_uri": "https://localhost:8080/",
          "height": 17,
          "referenced_widgets": [
            "bce1fcb2181f4106b11bf430936e6429",
            "c38d2de8640940abbeca82ab99401aed",
            "84165b281915488abeaf35d909c25343",
            "20890341b3cc4e35b5a87b6857ab70c5",
            "c68f9cd19d9a4440a1af2cb415d7165c",
            "87afb4213f3140498a1b18d4f748d2f9",
            "a785c70902be4355ba932d83994784ca",
            "7075f8617cae4d379b661d347f194260",
            "4237f3dd0af54539b5fbe2ea351731d2",
            "7d09048bf08b4b2f9d4295e673ccd65b",
            "7111d38db53248bda0e4f2affc957cbb"
          ]
        },
        "id": "f5FT_OccFKvb",
        "outputId": "ac6b7181-9a3e-433d-9307-6b898d0b3b7e"
      },
      "execution_count": null,
      "outputs": [
        {
          "output_type": "display_data",
          "data": {
            "text/plain": [
              "Map:   0%|          | 0/3358 [00:00<?, ? examples/s]"
            ],
            "application/vnd.jupyter.widget-view+json": {
              "version_major": 2,
              "version_minor": 0,
              "model_id": "bce1fcb2181f4106b11bf430936e6429"
            }
          },
          "metadata": {}
        }
      ]
    },
    {
      "cell_type": "code",
      "source": [
        "print(len(split_dataset['train']), len(split_dataset['test']), len(split_dataset['val']))"
      ],
      "metadata": {
        "colab": {
          "base_uri": "https://localhost:8080/"
        },
        "id": "1bZTg9CXYhNY",
        "outputId": "17db6b82-b7a7-45d1-c3da-90f02cd557af"
      },
      "execution_count": null,
      "outputs": [
        {
          "output_type": "stream",
          "name": "stdout",
          "text": [
            "2350 504 504\n"
          ]
        }
      ]
    },
    {
      "cell_type": "markdown",
      "source": [
        "# Model"
      ],
      "metadata": {
        "id": "tZRWO_zphol0"
      }
    },
    {
      "cell_type": "markdown",
      "source": [
        "The RoBERTa classification head is a fully connected layer that takes the final hidden state of the RoBERTa model as input and produces logits as output. The logits are then passed through a softmax function to obtain predicted probabilities for each class."
      ],
      "metadata": {
        "id": "e6gv9duafQlD"
      }
    },
    {
      "cell_type": "markdown",
      "source": [
        "Huggingface's AutoModelForSequenceClassification for CodeBERT by default uses RoBERTa classifier"
      ],
      "metadata": {
        "id": "GG_wrhWN9DFo"
      }
    },
    {
      "cell_type": "code",
      "source": [
        "model = AutoModelForSequenceClassification.from_pretrained(model_full_name, num_labels=4)"
      ],
      "metadata": {
        "colab": {
          "base_uri": "https://localhost:8080/"
        },
        "id": "k3RoN4NF2W31",
        "outputId": "454feb19-6719-4a92-9034-7856d6f23920"
      },
      "execution_count": null,
      "outputs": [
        {
          "output_type": "stream",
          "name": "stderr",
          "text": [
            "Some weights of the model checkpoint at microsoft/graphcodebert-base were not used when initializing RobertaForSequenceClassification: ['lm_head.decoder.bias', 'lm_head.layer_norm.bias', 'lm_head.dense.weight', 'lm_head.bias', 'lm_head.decoder.weight', 'lm_head.dense.bias', 'lm_head.layer_norm.weight']\n",
            "- This IS expected if you are initializing RobertaForSequenceClassification from the checkpoint of a model trained on another task or with another architecture (e.g. initializing a BertForSequenceClassification model from a BertForPreTraining model).\n",
            "- This IS NOT expected if you are initializing RobertaForSequenceClassification from the checkpoint of a model that you expect to be exactly identical (initializing a BertForSequenceClassification model from a BertForSequenceClassification model).\n",
            "Some weights of RobertaForSequenceClassification were not initialized from the model checkpoint at microsoft/graphcodebert-base and are newly initialized: ['classifier.out_proj.weight', 'classifier.dense.bias', 'classifier.out_proj.bias', 'classifier.dense.weight']\n",
            "You should probably TRAIN this model on a down-stream task to be able to use it for predictions and inference.\n"
          ]
        }
      ]
    },
    {
      "cell_type": "markdown",
      "source": [
        "# Train\n",
        "\n",
        "To skip training, upload `best_model` to environment and go to the next section"
      ],
      "metadata": {
        "id": "IXlNj7kL9LtL"
      }
    },
    {
      "cell_type": "markdown",
      "source": [
        "According to paper:\n",
        "\n",
        "1. Freeze CodeBERT layers to train classification layer with large amount of epochs (40 epochs). Early stopping technique with patience=3 for each epoch.\n",
        "\n",
        "2. Unfreeze CodeBERT layers to train entire model with small learning rate and fewer epoch numbers to prevent overfitting (5 epochs as suggested by previous research)"
      ],
      "metadata": {
        "id": "CnWjEI7pC24j"
      }
    },
    {
      "cell_type": "code",
      "source": [
        "from transformers import EarlyStoppingCallback, Trainer, TrainingArguments, IntervalStrategy\n",
        "from transformers.trainer_callback import CallbackHandler\n",
        "import os"
      ],
      "metadata": {
        "id": "ZeOweEMC9Okl"
      },
      "execution_count": null,
      "outputs": []
    },
    {
      "cell_type": "markdown",
      "source": [
        "## Training part 1: training the classifier"
      ],
      "metadata": {
        "id": "kQKDGUVWN8Hk"
      }
    },
    {
      "cell_type": "code",
      "source": [
        "# Default training loss is cross entropy loss (just like the paper)\n",
        "\n",
        "# Freeze the base model, train the classifier head\n",
        "for param in model.base_model.parameters():\n",
        "    param.requires_grad = False\n",
        "model.classifier.requires_grad_()\n",
        "\n",
        "# define the training arguments\n",
        "training_args = TrainingArguments(\n",
        "  num_train_epochs=40,\n",
        "  warmup_steps=500,\n",
        "  weight_decay=0.01,\n",
        "  logging_dir='./logs',\n",
        "  logging_steps=10,\n",
        "  output_dir='./results',\n",
        "  per_device_train_batch_size=16,\n",
        "  per_device_eval_batch_size=16,\n",
        "  evaluation_strategy=\"epoch\",\n",
        "  logging_strategy=\"epoch\",\n",
        "  save_strategy=\"epoch\",\n",
        "  load_best_model_at_end=True\n",
        ")\n",
        "\n",
        "\n",
        "early_stopping_callback = EarlyStoppingCallback(early_stopping_patience=3,\n",
        "                                                early_stopping_threshold=0.01)\n",
        "\n",
        "\n",
        "trainer = Trainer(\n",
        "    model=model,\n",
        "    args=training_args,\n",
        "    train_dataset=split_dataset['train'],\n",
        "    eval_dataset=split_dataset['val'],\n",
        "    callbacks=[early_stopping_callback]\n",
        ")\n",
        "\n",
        "trainer.train()\n",
        "\n",
        "# We can ignore warning that 'text' in the dataset is not expected by the model"
      ],
      "metadata": {
        "colab": {
          "base_uri": "https://localhost:8080/",
          "height": 433
        },
        "id": "InSqKV8O8-9Z",
        "outputId": "af3e64de-d893-468e-b77d-819439e11103"
      },
      "execution_count": null,
      "outputs": [
        {
          "output_type": "stream",
          "name": "stderr",
          "text": [
            "/usr/local/lib/python3.10/dist-packages/transformers/optimization.py:391: FutureWarning: This implementation of AdamW is deprecated and will be removed in a future version. Use the PyTorch implementation torch.optim.AdamW instead, or set `no_deprecation_warning=True` to disable this warning\n",
            "  warnings.warn(\n"
          ]
        },
        {
          "output_type": "display_data",
          "data": {
            "text/plain": [
              "<IPython.core.display.HTML object>"
            ],
            "text/html": [
              "\n",
              "    <div>\n",
              "      \n",
              "      <progress value='1176' max='5880' style='width:300px; height:20px; vertical-align: middle;'></progress>\n",
              "      [1176/5880 13:27 < 53:57, 1.45 it/s, Epoch 8/40]\n",
              "    </div>\n",
              "    <table border=\"1\" class=\"dataframe\">\n",
              "  <thead>\n",
              " <tr style=\"text-align: left;\">\n",
              "      <th>Epoch</th>\n",
              "      <th>Training Loss</th>\n",
              "      <th>Validation Loss</th>\n",
              "    </tr>\n",
              "  </thead>\n",
              "  <tbody>\n",
              "    <tr>\n",
              "      <td>1</td>\n",
              "      <td>0.629100</td>\n",
              "      <td>0.494872</td>\n",
              "    </tr>\n",
              "    <tr>\n",
              "      <td>2</td>\n",
              "      <td>0.460900</td>\n",
              "      <td>0.421524</td>\n",
              "    </tr>\n",
              "    <tr>\n",
              "      <td>3</td>\n",
              "      <td>0.432500</td>\n",
              "      <td>0.406249</td>\n",
              "    </tr>\n",
              "    <tr>\n",
              "      <td>4</td>\n",
              "      <td>0.417200</td>\n",
              "      <td>0.392980</td>\n",
              "    </tr>\n",
              "    <tr>\n",
              "      <td>5</td>\n",
              "      <td>0.399900</td>\n",
              "      <td>0.382195</td>\n",
              "    </tr>\n",
              "    <tr>\n",
              "      <td>6</td>\n",
              "      <td>0.390400</td>\n",
              "      <td>0.373101</td>\n",
              "    </tr>\n",
              "    <tr>\n",
              "      <td>7</td>\n",
              "      <td>0.380700</td>\n",
              "      <td>0.368815</td>\n",
              "    </tr>\n",
              "    <tr>\n",
              "      <td>8</td>\n",
              "      <td>0.377400</td>\n",
              "      <td>0.365310</td>\n",
              "    </tr>\n",
              "  </tbody>\n",
              "</table><p>"
            ]
          },
          "metadata": {}
        },
        {
          "output_type": "execute_result",
          "data": {
            "text/plain": [
              "TrainOutput(global_step=1176, training_loss=0.43602717003854763, metrics={'train_runtime': 808.4801, 'train_samples_per_second': 116.268, 'train_steps_per_second': 7.273, 'total_flos': 4946576665804800.0, 'train_loss': 0.43602717003854763, 'epoch': 8.0})"
            ]
          },
          "metadata": {},
          "execution_count": 61
        }
      ]
    },
    {
      "cell_type": "markdown",
      "source": [
        "## Training part 2: fine-tune"
      ],
      "metadata": {
        "id": "qwCGwIiSNpTR"
      }
    },
    {
      "cell_type": "code",
      "source": [
        "from sklearn.metrics import accuracy_score, f1_score\n",
        "\n",
        "def compute_metrics(eval_pred):\n",
        "    logits, labels = eval_pred\n",
        "\n",
        "    # sklearn score function can't process one-hot: convert to 0-4 values\n",
        "    labels = [label.argmax(axis=-1) for label in labels]\n",
        "    predictions = logits.argmax(axis=-1)\n",
        "\n",
        "    accuracy = accuracy_score(labels, predictions)\n",
        "    f1 = f1_score(labels, predictions, average=\"weighted\")\n",
        "    return {\"accuracy\": accuracy, \"f1\": f1}"
      ],
      "metadata": {
        "id": "dtc92MG0PpgX"
      },
      "execution_count": null,
      "outputs": []
    },
    {
      "cell_type": "code",
      "source": [
        "# Unfreeze all layers\n",
        "model.requires_grad_()\n",
        "\n",
        "\n",
        "training_args = TrainingArguments(\n",
        "  learning_rate=2e-5,\n",
        "  num_train_epochs=20,\n",
        "  weight_decay=0.01,\n",
        "  output_dir=\"./results\",\n",
        "  per_device_train_batch_size=16,\n",
        "  per_device_eval_batch_size=16,\n",
        "  evaluation_strategy=\"epoch\",\n",
        "  logging_strategy=\"epoch\",\n",
        "  save_strategy=\"epoch\",\n",
        "  load_best_model_at_end=True,\n",
        "  metric_for_best_model='f1'\n",
        ")\n",
        "\n",
        "early_stopping_callback = EarlyStoppingCallback(early_stopping_patience=3, early_stopping_threshold=0.01)\n",
        "\n",
        "trainer = Trainer(\n",
        "    model=model,\n",
        "    args=training_args,\n",
        "    train_dataset=split_dataset['train'],\n",
        "    eval_dataset=split_dataset['val'],\n",
        "    compute_metrics=compute_metrics,\n",
        "    callbacks=[early_stopping_callback]\n",
        ")\n",
        "\n",
        "trainer.train()\n",
        "\n",
        "# Save the best model\n",
        "model.save_pretrained(\"./best_model/\")\n",
        "tokenizer.save_pretrained(\"./best_model/\")"
      ],
      "metadata": {
        "id": "dSuXkmhBMnWT",
        "colab": {
          "base_uri": "https://localhost:8080/",
          "height": 485
        },
        "outputId": "2d36595d-0bea-4b42-f7cc-482c7b6b6f6f"
      },
      "execution_count": null,
      "outputs": [
        {
          "output_type": "stream",
          "name": "stderr",
          "text": [
            "/usr/local/lib/python3.10/dist-packages/transformers/optimization.py:391: FutureWarning: This implementation of AdamW is deprecated and will be removed in a future version. Use the PyTorch implementation torch.optim.AdamW instead, or set `no_deprecation_warning=True` to disable this warning\n",
            "  warnings.warn(\n"
          ]
        },
        {
          "output_type": "display_data",
          "data": {
            "text/plain": [
              "<IPython.core.display.HTML object>"
            ],
            "text/html": [
              "\n",
              "    <div>\n",
              "      \n",
              "      <progress value='1176' max='2940' style='width:300px; height:20px; vertical-align: middle;'></progress>\n",
              "      [1176/2940 32:19 < 48:33, 0.61 it/s, Epoch 8/20]\n",
              "    </div>\n",
              "    <table border=\"1\" class=\"dataframe\">\n",
              "  <thead>\n",
              " <tr style=\"text-align: left;\">\n",
              "      <th>Epoch</th>\n",
              "      <th>Training Loss</th>\n",
              "      <th>Validation Loss</th>\n",
              "      <th>Accuracy</th>\n",
              "      <th>F1</th>\n",
              "    </tr>\n",
              "  </thead>\n",
              "  <tbody>\n",
              "    <tr>\n",
              "      <td>1</td>\n",
              "      <td>0.351700</td>\n",
              "      <td>0.322145</td>\n",
              "      <td>0.732143</td>\n",
              "      <td>0.678183</td>\n",
              "    </tr>\n",
              "    <tr>\n",
              "      <td>2</td>\n",
              "      <td>0.277600</td>\n",
              "      <td>0.289446</td>\n",
              "      <td>0.746032</td>\n",
              "      <td>0.721775</td>\n",
              "    </tr>\n",
              "    <tr>\n",
              "      <td>3</td>\n",
              "      <td>0.200000</td>\n",
              "      <td>0.290854</td>\n",
              "      <td>0.769841</td>\n",
              "      <td>0.750967</td>\n",
              "    </tr>\n",
              "    <tr>\n",
              "      <td>4</td>\n",
              "      <td>0.126000</td>\n",
              "      <td>0.336834</td>\n",
              "      <td>0.740079</td>\n",
              "      <td>0.740216</td>\n",
              "    </tr>\n",
              "    <tr>\n",
              "      <td>5</td>\n",
              "      <td>0.086700</td>\n",
              "      <td>0.370308</td>\n",
              "      <td>0.765873</td>\n",
              "      <td>0.761591</td>\n",
              "    </tr>\n",
              "    <tr>\n",
              "      <td>6</td>\n",
              "      <td>0.058400</td>\n",
              "      <td>0.420930</td>\n",
              "      <td>0.759921</td>\n",
              "      <td>0.759008</td>\n",
              "    </tr>\n",
              "    <tr>\n",
              "      <td>7</td>\n",
              "      <td>0.040800</td>\n",
              "      <td>0.434993</td>\n",
              "      <td>0.769841</td>\n",
              "      <td>0.765544</td>\n",
              "    </tr>\n",
              "    <tr>\n",
              "      <td>8</td>\n",
              "      <td>0.034300</td>\n",
              "      <td>0.484832</td>\n",
              "      <td>0.779762</td>\n",
              "      <td>0.770641</td>\n",
              "    </tr>\n",
              "  </tbody>\n",
              "</table><p>"
            ]
          },
          "metadata": {}
        },
        {
          "output_type": "execute_result",
          "data": {
            "text/plain": [
              "('./best_model/tokenizer_config.json',\n",
              " './best_model/special_tokens_map.json',\n",
              " './best_model/vocab.json',\n",
              " './best_model/merges.txt',\n",
              " './best_model/added_tokens.json',\n",
              " './best_model/tokenizer.json')"
            ]
          },
          "metadata": {},
          "execution_count": 63
        }
      ]
    },
    {
      "cell_type": "markdown",
      "source": [
        "For future reuse, save `./best_model` to local"
      ],
      "metadata": {
        "id": "W0k8xjvSaax_"
      }
    },
    {
      "cell_type": "markdown",
      "source": [
        "# Load saved model"
      ],
      "metadata": {
        "id": "iIxjGYIL_FAP"
      }
    },
    {
      "cell_type": "code",
      "source": [
        "# Loading a saved model\n",
        "model = AutoModelForSequenceClassification.from_pretrained(\"./best_model\")\n"
      ],
      "metadata": {
        "id": "UhJSn2LiUtKF"
      },
      "execution_count": null,
      "outputs": []
    },
    {
      "cell_type": "markdown",
      "source": [
        "# Eval"
      ],
      "metadata": {
        "id": "soLXgPE7cLQC"
      }
    },
    {
      "cell_type": "markdown",
      "source": [
        "## Eval using test set"
      ],
      "metadata": {
        "id": "5qMHSnmkBQRg"
      }
    },
    {
      "cell_type": "code",
      "source": [
        "model.eval()\n",
        "pred_vec = trainer.predict(split_dataset['test']).predictions\n",
        "predictions = np.argmax(pred_vec, axis=1)\n",
        "\n",
        "target_vec = np.array(split_dataset['test']['label'])\n",
        "target = np.argmax(target_vec, axis=1)"
      ],
      "metadata": {
        "id": "RlMHjQ-w-_wg",
        "colab": {
          "base_uri": "https://localhost:8080/",
          "height": 17
        },
        "outputId": "c728dd1a-7324-4ac7-9d80-5d6aabed3b47"
      },
      "execution_count": null,
      "outputs": [
        {
          "output_type": "display_data",
          "data": {
            "text/plain": [
              "<IPython.core.display.HTML object>"
            ],
            "text/html": []
          },
          "metadata": {}
        }
      ]
    },
    {
      "cell_type": "code",
      "source": [
        "from sklearn.metrics import confusion_matrix, accuracy_score, precision_score, recall_score, f1_score, roc_auc_score, matthews_corrcoef, classification_report\n",
        "\n",
        "# accuracy\n",
        "accuracy = accuracy_score(target, predictions)\n",
        "print('accuracy', accuracy)\n",
        "\n",
        "# precision\n",
        "precision = precision_score(target, predictions, average='weighted')\n",
        "print('precision', precision)\n",
        "\n",
        "# recall\n",
        "recall = recall_score(target, predictions, average='weighted')\n",
        "print('recall', recall)\n",
        "\n",
        "# F1-weighted\n",
        "f1_weighted = f1_score(target, predictions, average='weighted')\n",
        "print('f1_weighted', f1_weighted)\n",
        "\n",
        "# F1-perclass\n",
        "f1_perclass = f1_score(target, predictions, average=None)\n",
        "print('f1_perclass', f1_perclass)\n",
        "\n",
        "# AUC\n",
        "auc = roc_auc_score(target_vec, pred_vec, multi_class='ovr', average='micro')\n",
        "print('auc', auc)\n",
        "\n",
        "# MCC\n",
        "mcc = matthews_corrcoef(target, predictions)\n",
        "print('mcc', mcc)\n",
        "\n",
        "# classification report\n",
        "report = classification_report(target, predictions)\n",
        "print(report)\n"
      ],
      "metadata": {
        "colab": {
          "base_uri": "https://localhost:8080/"
        },
        "id": "iqgNcs-FkpI_",
        "outputId": "599c5c85-0297-495a-f202-8b26dbc3c9dc"
      },
      "execution_count": null,
      "outputs": [
        {
          "output_type": "stream",
          "name": "stdout",
          "text": [
            "accuracy 0.7797619047619048\n",
            "precision 0.7685621842695343\n",
            "recall 0.7797619047619048\n",
            "f1_weighted 0.7710442841261472\n",
            "f1_perclass [0.47761194 0.83870968 0.98989899 0.57591623]\n",
            "auc 0.9212385571512555\n",
            "mcc 0.5908292561112268\n",
            "              precision    recall  f1-score   support\n",
            "\n",
            "           0       0.59      0.40      0.48        40\n",
            "           1       0.81      0.88      0.84       312\n",
            "           2       0.98      1.00      0.99        49\n",
            "           3       0.62      0.53      0.58       103\n",
            "\n",
            "    accuracy                           0.78       504\n",
            "   macro avg       0.75      0.70      0.72       504\n",
            "weighted avg       0.77      0.78      0.77       504\n",
            "\n"
          ]
        }
      ]
    },
    {
      "cell_type": "code",
      "source": [
        "from sklearn.metrics import roc_curve, auc\n",
        "\n",
        "# store the fpr, tpr, and roc_auc for all averaging strategies\n",
        "fpr, tpr, roc_auc = dict(), dict(), dict()\n",
        "# Compute micro-average ROC curve and ROC area\n",
        "fpr[\"micro\"], tpr[\"micro\"], _ = roc_curve(target_vec.ravel(), pred_vec.ravel())\n",
        "roc_auc[\"micro\"] = auc(fpr[\"micro\"], tpr[\"micro\"])\n",
        "\n",
        "print(f\"Micro-averaged One-vs-Rest ROC AUC score:\\n{roc_auc['micro']:.2f}\")"
      ],
      "metadata": {
        "colab": {
          "base_uri": "https://localhost:8080/"
        },
        "id": "30izL0pW2kU2",
        "outputId": "860ade5f-c8ca-4700-d25b-92b96a7bdb95"
      },
      "execution_count": null,
      "outputs": [
        {
          "output_type": "stream",
          "name": "stdout",
          "text": [
            "Micro-averaged One-vs-Rest ROC AUC score:\n",
            "0.92\n"
          ]
        }
      ]
    },
    {
      "cell_type": "code",
      "source": [
        "from itertools import cycle\n",
        "from matplotlib import pyplot as plt\n",
        "from sklearn.metrics import RocCurveDisplay\n",
        "\n",
        "fig, ax = plt.subplots(figsize=(6, 6))\n",
        "\n",
        "plt.plot(\n",
        "  fpr[\"micro\"],\n",
        "  tpr[\"micro\"],\n",
        "  label=f\"micro-average ROC curve (AUC = {roc_auc['micro']:.2f})\",\n",
        "  color=\"deeppink\",\n",
        "  linestyle=\":\",\n",
        "  linewidth=4,\n",
        ")\n",
        "\n",
        "colors = cycle([\"blue\", \"orange\", \"green\", \"red\"])\n",
        "for class_id, color in zip(range(4), colors):\n",
        "  RocCurveDisplay.from_predictions(\n",
        "      target_vec[:, class_id],\n",
        "      pred_vec[:, class_id],\n",
        "      name=f\"ROC curve for {labels[class_id]}\",\n",
        "      color=color,\n",
        "      ax=ax,\n",
        "  )\n",
        "\n",
        "plt.plot([0, 1], [0, 1], \"k--\", label=\"ROC curve for chance level (AUC = 0.5)\")\n",
        "plt.axis(\"square\")\n",
        "plt.xlabel(\"False Positive Rate\")\n",
        "plt.ylabel(\"True Positive Rate\")\n",
        "plt.title(f\"Receiver Operating Characteristic\\n(OvR Multiclass)\")\n",
        "plt.legend()\n",
        "plt.show()"
      ],
      "metadata": {
        "colab": {
          "base_uri": "https://localhost:8080/",
          "height": 585
        },
        "id": "Vx5Qsby82SLq",
        "outputId": "c7c1bd9e-1d15-4d98-94c9-7ae382f8fab4"
      },
      "execution_count": null,
      "outputs": [
        {
          "output_type": "display_data",
          "data": {
            "text/plain": [
              "<Figure size 600x600 with 1 Axes>"
            ],
            "image/png": "[encoded data removed]"
          },
          "metadata": {}
        }
      ]
    },
    {
      "cell_type": "code",
      "source": [
        "from sklearn.metrics import precision_recall_curve\n",
        "precision = dict()\n",
        "recall = dict()\n",
        "for i in range(4):\n",
        "  precision[i], recall[i], _ = precision_recall_curve(target_vec[:, i],\n",
        "                                                      pred_vec[:, i])\n",
        "  plt.plot(recall[i], precision[i], lw=2, label=labels[i])\n",
        "\n",
        "plt.xlabel(\"recall\")\n",
        "plt.ylabel(\"precision\")\n",
        "plt.legend(loc=\"best\")\n",
        "plt.title(\"precision vs. recall curve\")\n",
        "plt.show()"
      ],
      "metadata": {
        "id": "dUZIkisSjPlC",
        "colab": {
          "base_uri": "https://localhost:8080/",
          "height": 472
        },
        "outputId": "4a43394c-7d9b-45f4-bd87-72fafeeba076"
      },
      "execution_count": null,
      "outputs": [
        {
          "output_type": "display_data",
          "data": {
            "text/plain": [
              "<Figure size 640x480 with 1 Axes>"
            ],
            "image/png": "[encoded data removed]"
          },
          "metadata": {}
        }
      ]
    },
    {
      "cell_type": "code",
      "source": [
        "from sklearn.metrics import confusion_matrix, ConfusionMatrixDisplay\n",
        "cm = confusion_matrix(target, predictions)\n",
        "\n",
        "cm_display = ConfusionMatrixDisplay(confusion_matrix=cm)\n",
        "\n",
        "cm_display.plot()\n",
        "plt.show()"
      ],
      "metadata": {
        "colab": {
          "base_uri": "https://localhost:8080/",
          "height": 449
        },
        "id": "yW5D7ZwLP27I",
        "outputId": "e86e51a7-d268-4090-80f6-ac608bee7cdd"
      },
      "execution_count": null,
      "outputs": [
        {
          "output_type": "display_data",
          "data": {
            "text/plain": [
              "<Figure size 640x480 with 2 Axes>"
            ],
            "image/png": "[encoded data removed]"
          },
          "metadata": {}
        }
      ]
    },
    {
      "cell_type": "markdown",
      "source": [
        "## Run a single test case"
      ],
      "metadata": {
        "id": "DDVMZ_6fX74l"
      }
    },
    {
      "cell_type": "code",
      "source": [
        "\n",
        "from torch.nn.functional import softmax\n",
        "\n",
        "\n",
        "def run(text, model, tokenizer):\n",
        "  tokens = tokenizer(text, padding='max_length',\n",
        "              truncation=True, max_length=512,\n",
        "              return_tensors=\"pt\"  # return pytorch tensors\n",
        "              )\n",
        "\n",
        "  # load onto gpu\n",
        "  device = torch.device(\"cuda\" if torch.cuda.is_available() else \"cpu\")\n",
        "\n",
        "  model = model.to(device)\n",
        "  tokens = tokens.to(device)\n",
        "\n",
        "  with torch.no_grad():\n",
        "    outputs = model(**tokens)\n",
        "  prob = softmax(outputs.logits, dim=1).tolist()[0]\n",
        "  pred = torch.argmax(outputs.logits, dim=1).tolist()[0]\n",
        "  print(\"=======Raw code========\")\n",
        "  print(repr(text))\n",
        "  print()\n",
        "  print(\"=====Readable code=====\")\n",
        "  print(text)\n",
        "  print()\n",
        "  print(\"Prediction: \", labels[pred])\n",
        "  print(\"Confidence: \", {labels[i]: round(prob[i], 3) for i in range(len(prob))})"
      ],
      "metadata": {
        "id": "pqvDJIea92KP"
      },
      "execution_count": null,
      "outputs": []
    },
    {
      "cell_type": "code",
      "source": [
        "test_text = \"\"\"\n",
        "public static int getMax(int a, int b) {\n",
        "  return 0;\n",
        "}\n",
        "\"\"\"\n",
        "\n",
        "run(test_text, model, tokenizer)\n"
      ],
      "metadata": {
        "colab": {
          "base_uri": "https://localhost:8080/"
        },
        "id": "HPrPsHd-foi4",
        "outputId": "7e33e444-265a-4ca5-ad81-e35c1ec68f4f"
      },
      "execution_count": null,
      "outputs": [
        {
          "output_type": "stream",
          "name": "stdout",
          "text": [
            "=======Raw code========\n",
            "'\\npublic static int getMax(int a, int b) { \\n  return 0; \\n}\\n'\n",
            "\n",
            "=====Readable code=====\n",
            "\n",
            "public static int getMax(int a, int b) { \n",
            "  return 0; \n",
            "}\n",
            "\n",
            "\n",
            "Prediction:  High\n",
            "Confidence:  {'Critical': 0.0, 'High': 1.0, 'Medium': 0.0, 'Low': 0.0}\n"
          ]
        }
      ]
    }
  ]
}